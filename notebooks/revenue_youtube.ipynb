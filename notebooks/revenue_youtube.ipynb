{
 "cells": [
  {
   "cell_type": "code",
   "execution_count": 23,
   "metadata": {},
   "outputs": [],
   "source": [
    "import random\n",
    "random.seed(1)\n",
    "import pickle"
   ]
  },
  {
   "cell_type": "code",
   "execution_count": 14,
   "metadata": {},
   "outputs": [
    {
     "name": "stdout",
     "output_type": "stream",
     "text": [
      "Size of ground set: 250\n",
      "Size of edges: 426\n"
     ]
    }
   ],
   "source": [
    "com_path = \"../dataset/revenue/com-youtube.top5000.cmty.txt\"\n",
    "graph_path = \"../dataset/revenue/com-youtube.ungraph.txt\"\n",
    "\n",
    "with open(com_path, \"r\") as rd:\n",
    "    content = rd.readlines()\n",
    "\n",
    "sample_size = 25\n",
    "content_sample = random.sample(content, sample_size)\n",
    "communities = []\n",
    "for line in content_sample:\n",
    "    communities.append(\n",
    "        list(map(int, line.strip().split()))\n",
    "    )\n",
    "\n",
    "ground_set = set()\n",
    "for com in communities:\n",
    "    for v in com:\n",
    "        ground_set.add(v)\n",
    "\n",
    "print(\"Size of ground set:\", len(ground_set))\n",
    "\n",
    "edges = []\n",
    "with open(graph_path, \"r\") as rd:\n",
    "    offset = 4  # skip heads of tables\n",
    "    for line in rd.readlines()[offset:]:\n",
    "        u, v = list(map(int, line.strip().split()))\n",
    "        if u in ground_set and v in ground_set:\n",
    "            edges.append((u, v))\n",
    "\n",
    "print(\"Size of edges:\", len(edges))"
   ]
  },
  {
   "cell_type": "code",
   "execution_count": 25,
   "metadata": {},
   "outputs": [
    {
     "name": "stdout",
     "output_type": "stream",
     "text": [
      "|V|, |E| =  250 426\n"
     ]
    }
   ],
   "source": [
    "V = sorted(list(ground_set))\n",
    "V_map = { x:i for i, x in enumerate(V)}\n",
    "E = list(map(lambda x: (V_map[x[0]], V_map[x[1]]), edges))\n",
    "print(\"|V|, |E| = \", len(V), len(E))"
   ]
  },
  {
   "cell_type": "code",
   "execution_count": 22,
   "metadata": {},
   "outputs": [],
   "source": [
    "res = {\n",
    "    'num_vertices' : len(V),\n",
    "    'edges' : E\n",
    "}\n",
    "with open(\"../dataset/revenue/25_youtube_top5000.pkl\", \"wb\") as wrt:\n",
    "    pickle.dump(res, wrt)"
   ]
  }
 ],
 "metadata": {
  "kernelspec": {
   "display_name": "subopt",
   "language": "python",
   "name": "python3"
  },
  "language_info": {
   "codemirror_mode": {
    "name": "ipython",
    "version": 3
   },
   "file_extension": ".py",
   "mimetype": "text/x-python",
   "name": "python",
   "nbconvert_exporter": "python",
   "pygments_lexer": "ipython3",
   "version": "3.10.0"
  }
 },
 "nbformat": 4,
 "nbformat_minor": 2
}
