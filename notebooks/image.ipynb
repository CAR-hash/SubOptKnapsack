{
 "cells": [
  {
   "cell_type": "code",
   "execution_count": 11,
   "metadata": {},
   "outputs": [],
   "source": [
    "import numpy as np\n",
    "import pickle\n",
    "import random"
   ]
  },
  {
   "cell_type": "code",
   "execution_count": 15,
   "metadata": {},
   "outputs": [
    {
     "name": "stdout",
     "output_type": "stream",
     "text": [
      "(10000, 3072)\n",
      "(500, 3072)\n"
     ]
    }
   ],
   "source": [
    "with open(\"../dataset/image/cifar-10-batches-py/data_batch_1\", \"rb\") as rd:\n",
    "    data_dict = pickle.load(rd, encoding='bytes')\n",
    "np_data = data_dict[b'data']\n",
    "print(np_data.shape)\n",
    "\n",
    "row = np_data.shape[0]\n",
    "idxs = np.random.randint(0, row, size=500)\n",
    "np_data_sample = np_data[idxs, :]\n",
    "print(np_data_sample.shape)\n",
    "\n"
   ]
  },
  {
   "cell_type": "code",
   "execution_count": 19,
   "metadata": {},
   "outputs": [
    {
     "ename": "ValueError",
     "evalue": "operands could not be broadcast together with shapes (500,3072) (500,) ",
     "output_type": "error",
     "traceback": [
      "\u001b[0;31m---------------------------------------------------------------------------\u001b[0m",
      "\u001b[0;31mValueError\u001b[0m                                Traceback (most recent call last)",
      "\u001b[1;32m/home/tong030/Projects/SubOpt/notebooks/image.ipynb Cell 3\u001b[0m line \u001b[0;36m3\n\u001b[1;32m      <a href='vscode-notebook-cell://wsl%2Bubuntu/home/tong030/Projects/SubOpt/notebooks/image.ipynb#W2sdnNjb2RlLXJlbW90ZQ%3D%3D?line=0'>1</a>\u001b[0m mu \u001b[39m=\u001b[39m np_data_sample\u001b[39m.\u001b[39mmean(axis\u001b[39m=\u001b[39m\u001b[39m1\u001b[39m)\n\u001b[1;32m      <a href='vscode-notebook-cell://wsl%2Bubuntu/home/tong030/Projects/SubOpt/notebooks/image.ipynb#W2sdnNjb2RlLXJlbW90ZQ%3D%3D?line=1'>2</a>\u001b[0m sigma \u001b[39m=\u001b[39m np_data_sample\u001b[39m.\u001b[39mstd(axis\u001b[39m=\u001b[39m\u001b[39m1\u001b[39m)\n\u001b[0;32m----> <a href='vscode-notebook-cell://wsl%2Bubuntu/home/tong030/Projects/SubOpt/notebooks/image.ipynb#W2sdnNjb2RlLXJlbW90ZQ%3D%3D?line=2'>3</a>\u001b[0m np_data_sample_norm \u001b[39m=\u001b[39m (np_data_sample \u001b[39m-\u001b[39;49m mu) \u001b[39m/\u001b[39m sigma\n",
      "\u001b[0;31mValueError\u001b[0m: operands could not be broadcast together with shapes (500,3072) (500,) "
     ]
    }
   ],
   "source": [
    "mu = np_data_sample.mean(axis=1)\n",
    "sigma = np_data_sample.std(axis=1)\n"
   ]
  },
  {
   "cell_type": "code",
   "execution_count": 47,
   "metadata": {},
   "outputs": [],
   "source": [
    "np_data_sample = np.array(np_data_sample, dtype='float')\n",
    "mi = np_data_sample.min(axis=1)\n",
    "ma = np_data_sample.max(axis=1)\n",
    "\n",
    "np_data_sample_norm = (np_data_sample - mi[:, np.newaxis] ) / (ma[:, np.newaxis] - mi[:, np.newaxis])\n",
    "\n",
    "with open(\"../dataset/image/500_cifar10_sample.npy\", \"wb\") as wrt:\n",
    "    np.save(wrt, np_data_sample_norm)"
   ]
  },
  {
   "cell_type": "code",
   "execution_count": 48,
   "metadata": {},
   "outputs": [
    {
     "data": {
      "text/plain": [
       "(500, 1)"
      ]
     },
     "execution_count": 48,
     "metadata": {},
     "output_type": "execute_result"
    }
   ],
   "source": [
    "mi[:, np.newaxis].shape"
   ]
  }
 ],
 "metadata": {
  "kernelspec": {
   "display_name": "subopt",
   "language": "python",
   "name": "python3"
  },
  "language_info": {
   "codemirror_mode": {
    "name": "ipython",
    "version": 3
   },
   "file_extension": ".py",
   "mimetype": "text/x-python",
   "name": "python",
   "nbconvert_exporter": "python",
   "pygments_lexer": "ipython3",
   "version": "3.10.0"
  }
 },
 "nbformat": 4,
 "nbformat_minor": 2
}
